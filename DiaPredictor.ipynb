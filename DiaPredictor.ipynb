{
 "cells": [
  {
   "cell_type": "code",
   "execution_count": 4,
   "metadata": {},
   "outputs": [],
   "source": [
    "#import libraries\n",
    "import numpy as np\n",
    "import pandas as pd\n",
    "\n",
    "# import scikit -learn\n",
    "#perform Scaling\n",
    "from sklearn.preprocessing import StandardScaler \n",
    "#train test split\n",
    "from sklearn.model_selection import train_test_split \n",
    "#SVM ML model\n",
    "from sklearn import svm \n",
    "#Check prediction Accuraccy\n",
    "from sklearn.metrics import accuracy_score "
   ]
  }
 ],
 "metadata": {
  "kernelspec": {
   "display_name": "Python 3",
   "language": "python",
   "name": "python3"
  },
  "language_info": {
   "codemirror_mode": {
    "name": "ipython",
    "version": 3
   },
   "file_extension": ".py",
   "mimetype": "text/x-python",
   "name": "python",
   "nbconvert_exporter": "python",
   "pygments_lexer": "ipython3",
   "version": "3.11.4"
  },
  "orig_nbformat": 4
 },
 "nbformat": 4,
 "nbformat_minor": 2
}
